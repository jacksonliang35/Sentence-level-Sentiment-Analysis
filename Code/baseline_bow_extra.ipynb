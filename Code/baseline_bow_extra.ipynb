{
 "cells": [
  {
   "cell_type": "code",
   "execution_count": 1,
   "id": "c9e98d64",
   "metadata": {},
   "outputs": [],
   "source": [
    "import os\n",
    "import re\n",
    "import string\n",
    "import numpy as np\n",
    "from sklearn.metrics import accuracy_score, precision_score, recall_score, f1_score\n",
    "from nltk import word_tokenize\n",
    "from random import shuffle\n",
    "from itertools import chain\n",
    "from collections import Counter"
   ]
  },
  {
   "cell_type": "markdown",
   "id": "32875354",
   "metadata": {},
   "source": [
    "Read all sentences into lists..."
   ]
  },
  {
   "cell_type": "code",
   "execution_count": 2,
   "id": "c03fad3a",
   "metadata": {},
   "outputs": [],
   "source": [
    "yelp_text_dir = '../Data/ExtraCredit/Yelp/all_reviews.txt'\n",
    "pos_sentences = []\n",
    "neg_sentences = []\n",
    "with open(yelp_text_dir, 'r') as f:\n",
    "    reading_flag = False\n",
    "    for line in f:\n",
    "        if line[1:-1] == 'star':\n",
    "            cur_star = int(line[0])\n",
    "            continue\n",
    "        elif line.startswith('[[['):\n",
    "            cur_review = \"\"\n",
    "            reading_flag = True\n",
    "            continue\n",
    "        elif line.startswith(']]]'):\n",
    "            reading_flag = False\n",
    "            # Text Normalization\n",
    "            cur_review = cur_review.strip().lower()\n",
    "            # Store\n",
    "            if cur_star < 3.5:\n",
    "                neg_sentences.append(word_tokenize(cur_review))\n",
    "            elif cur_star > 3.5:\n",
    "                pos_sentences.append(word_tokenize(cur_review))\n",
    "        elif reading_flag and len(line) > 1:\n",
    "            cur_review += line[:-1] + ' '\n"
   ]
  },
  {
   "cell_type": "code",
   "execution_count": 13,
   "id": "1e8d7c4a",
   "metadata": {},
   "outputs": [
    {
     "data": {
      "text/plain": [
       "4325"
      ]
     },
     "execution_count": 13,
     "metadata": {},
     "output_type": "execute_result"
    }
   ],
   "source": [
    "len(neg_sentences)"
   ]
  },
  {
   "cell_type": "code",
   "execution_count": null,
   "id": "f56cb52f",
   "metadata": {},
   "outputs": [],
   "source": []
  },
  {
   "cell_type": "markdown",
   "id": "dc740ed5",
   "metadata": {},
   "source": [
    "Divide into train/dev/test sets..."
   ]
  },
  {
   "cell_type": "code",
   "execution_count": 3,
   "id": "04f66153",
   "metadata": {},
   "outputs": [],
   "source": [
    "shuffle(pos_sentences)\n",
    "shuffle(neg_sentences)\n",
    "\n",
    "npos = len(pos_sentences)\n",
    "nneg = len(neg_sentences)\n",
    "\n",
    "traindata = [pos_sentences[:npos//10*6], neg_sentences[:nneg//10*6]]\n",
    "valdata = [pos_sentences[npos//10*6:npos//10*8], neg_sentences[nneg//10*6:nneg//10*8]]\n",
    "testdata = [pos_sentences[npos//10*8:], neg_sentences[nneg//10*8:]]"
   ]
  },
  {
   "cell_type": "code",
   "execution_count": 8,
   "id": "7444d397",
   "metadata": {},
   "outputs": [],
   "source": [
    "TESTING = True\n",
    "if TESTING:\n",
    "    traindata[0] += valdata[0]\n",
    "    traindata[1] += valdata[1]"
   ]
  },
  {
   "cell_type": "markdown",
   "id": "7283a806",
   "metadata": {},
   "source": [
    "Get Bag-of-Words dictionaries..."
   ]
  },
  {
   "cell_type": "code",
   "execution_count": 9,
   "id": "aa720322",
   "metadata": {},
   "outputs": [],
   "source": [
    "trainpos = list(chain.from_iterable(traindata[0]))\n",
    "trainneg = list(chain.from_iterable(traindata[1]))\n",
    "cntpos = Counter(trainpos)\n",
    "cntneg = Counter(trainneg)\n",
    "total_words = set(trainpos).union(set(trainneg))"
   ]
  },
  {
   "cell_type": "code",
   "execution_count": 10,
   "id": "180f4d44",
   "metadata": {},
   "outputs": [],
   "source": [
    "aff_word_list = []\n",
    "pos_logprob = {}\n",
    "for w in total_words:\n",
    "    prob = (1+cntpos[w])/(2+cntpos[w]+cntneg[w])\n",
    "    aff_word_list.append(w)\n",
    "    pos_logprob[w] = np.log(prob)\n",
    "aff_word_list = set(aff_word_list)"
   ]
  },
  {
   "cell_type": "markdown",
   "id": "e1880416",
   "metadata": {},
   "source": [
    "Get prediction results..."
   ]
  },
  {
   "cell_type": "code",
   "execution_count": 7,
   "id": "86cdc4bd",
   "metadata": {},
   "outputs": [
    {
     "name": "stdout",
     "output_type": "stream",
     "text": [
      "The accuracy is: 0.8314065510597303\n",
      "\n",
      "The precision for positive is: 0.8470209339774557\n",
      "The recall for positive is: 0.8679867986798679\n",
      "The f1 score for positive is: 0.8573757131214343\n",
      "\n",
      "The precision for negative is: 0.8081534772182254\n",
      "The recall for negative is: 0.7800925925925926\n",
      "The f1 score for negative is: 0.7938751472320378\n"
     ]
    }
   ],
   "source": [
    "y_true = np.array([1]*len(valdata[0])+[0]*len(valdata[1]))\n",
    "y_pred = []\n",
    "for i in range(2):\n",
    "    for sent in valdata[i]:\n",
    "        aff_score = []\n",
    "        for w in sent:\n",
    "            if w in aff_word_list:\n",
    "                aff_score.append(pos_logprob[w])\n",
    "        if len(aff_score) == 0:\n",
    "            y_pred.append(np.random.choice(2))\n",
    "        elif np.mean(aff_score) > np.log(0.5):\n",
    "            y_pred.append(1)\n",
    "        else:\n",
    "            y_pred.append(0)\n",
    "y_pred = np.array(y_pred)\n",
    "\n",
    "print(\"The accuracy is:\", accuracy_score(y_true, y_pred))\n",
    "print(\"\")\n",
    "\n",
    "## Stat for pos class\n",
    "print(\"The precision for positive is:\", precision_score(y_true, y_pred))\n",
    "print(\"The recall for positive is:\", recall_score(y_true, y_pred))\n",
    "print(\"The f1 score for positive is:\", f1_score(y_true, y_pred))\n",
    "print(\"\")\n",
    "\n",
    "## Stat for neg class\n",
    "print(\"The precision for negative is:\", precision_score(y_true, y_pred, pos_label=0))\n",
    "print(\"The recall for negative is:\", recall_score(y_true, y_pred, pos_label=0))\n",
    "print(\"The f1 score for negative is:\", f1_score(y_true, y_pred, pos_label=0))"
   ]
  },
  {
   "cell_type": "markdown",
   "id": "4446aec4",
   "metadata": {},
   "source": [
    "Run on test data..."
   ]
  },
  {
   "cell_type": "code",
   "execution_count": 11,
   "id": "9b8d2a14",
   "metadata": {},
   "outputs": [
    {
     "name": "stdout",
     "output_type": "stream",
     "text": [
      "The accuracy is: 0.8481073310972688\n",
      "\n",
      "The precision for positive is: 0.8431073876618431\n",
      "The recall for positive is: 0.9088669950738916\n",
      "The f1 score for positive is: 0.8747530620308177\n",
      "\n",
      "The precision for negative is: 0.8565891472868217\n",
      "The recall for negative is: 0.762945914844649\n",
      "The f1 score for negative is: 0.8070602556299453\n"
     ]
    }
   ],
   "source": [
    "y_test = np.array([1]*len(testdata[0])+[0]*len(testdata[1]))\n",
    "y_pred = []\n",
    "for i in range(2):\n",
    "    for sent in testdata[i]:\n",
    "        aff_score = []\n",
    "        for w in sent:\n",
    "            if w in aff_word_list:\n",
    "                aff_score.append(pos_logprob[w])\n",
    "        if len(aff_score) == 0:\n",
    "            y_pred.append(np.random.choice(2))\n",
    "        elif np.mean(aff_score) > np.log(0.5):\n",
    "            y_pred.append(1)\n",
    "        else:\n",
    "            y_pred.append(0)\n",
    "y_pred = np.array(y_pred)\n",
    "\n",
    "print(\"The accuracy is:\", accuracy_score(y_test, y_pred))\n",
    "print(\"\")\n",
    "\n",
    "## Stat for pos class\n",
    "print(\"The precision for positive is:\", precision_score(y_test, y_pred))\n",
    "print(\"The recall for positive is:\", recall_score(y_test, y_pred))\n",
    "print(\"The f1 score for positive is:\", f1_score(y_test, y_pred))\n",
    "print(\"\")\n",
    "\n",
    "## Stat for neg class\n",
    "print(\"The precision for negative is:\", precision_score(y_test, y_pred, pos_label=0))\n",
    "print(\"The recall for negative is:\", recall_score(y_test, y_pred, pos_label=0))\n",
    "print(\"The f1 score for negative is:\", f1_score(y_test, y_pred, pos_label=0))"
   ]
  }
 ],
 "metadata": {
  "kernelspec": {
   "display_name": "Python 3 (ipykernel)",
   "language": "python",
   "name": "python3"
  },
  "language_info": {
   "codemirror_mode": {
    "name": "ipython",
    "version": 3
   },
   "file_extension": ".py",
   "mimetype": "text/x-python",
   "name": "python",
   "nbconvert_exporter": "python",
   "pygments_lexer": "ipython3",
   "version": "3.9.6"
  }
 },
 "nbformat": 4,
 "nbformat_minor": 5
}
